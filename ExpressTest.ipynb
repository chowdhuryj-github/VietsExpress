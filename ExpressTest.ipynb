{
 "cells": [
  {
   "cell_type": "markdown",
   "metadata": {},
   "source": [
    "# Viets Express File Handling in Python\n",
    "Welcome to the Jupyter Notebook for File Handling in Python. We want to generate a random dataset of names of residents residing in Viets tower and the information on their packages."
   ]
  },
  {
   "cell_type": "markdown",
   "metadata": {},
   "source": [
    "### Generating Fake Names, Room Numbers & Package Quantity.\n",
    "We start off by generating the fake names using the `Faker` library. We then used `.strip()` the separate the names into the first and second names. We then used the `random` library to generate random room numbers and random quantities of packages. Lastly, we use `initial_list` to pick a random initial."
   ]
  },
  {
   "cell_type": "code",
   "execution_count": 1,
   "metadata": {},
   "outputs": [
    {
     "name": "stdout",
     "output_type": "stream",
     "text": [
      "Number of Room Numbers:  50\n",
      "Number of First Names:  50\n",
      "Number of Last Names:  50\n",
      "Number of Packages:  50\n",
      "Number of Room Numbers:  50\n",
      "Number of Initials:  50\n"
     ]
    }
   ],
   "source": [
    "# importing and instantiating faker\n",
    "from faker import Faker\n",
    "import random\n",
    "\n",
    "fake = Faker()\n",
    "\n",
    "# creating a list for storing names\n",
    "initials_list = [\"MW\", \"CZ\", \"KS\", \"BM\", \"NS\"]\n",
    "initial_names = []\n",
    "first_names = []\n",
    "second_names = []\n",
    "room_number = []\n",
    "package_list = []\n",
    "\n",
    "# adding fake names to the list \n",
    "for i in range(0, 50):\n",
    "    room_num = random.randint(100, 1200)\n",
    "    package_num = random.randint(1, 5)\n",
    "    random_initial = random.choice(initials_list)\n",
    "    room_number.append(room_num)\n",
    "    fake_name = fake.name().split()\n",
    "    first_names.append(fake_name[0])\n",
    "    second_names.append(fake_name[1])\n",
    "    package_list.append(package_num)\n",
    "    initial_names.append(random_initial)\n",
    "\n",
    "\n",
    "# checking the lengths of the lists\n",
    "print(\"Number of Room Numbers: \", len(room_number))\n",
    "print(\"Number of First Names: \", len(first_names))\n",
    "print(\"Number of Last Names: \", len(second_names))\n",
    "print(\"Number of Packages: \", len(package_list))\n",
    "print(\"Number of Room Numbers: \",len(room_number))\n",
    "print(\"Number of Initials: \", len(initial_names))"
   ]
  },
  {
   "cell_type": "markdown",
   "metadata": {},
   "source": [
    "### Generating the Fake Dates\n",
    "We want to ensure that we have the necessary fake dates to add the dates at which the package arrived and when the packages were checked out. "
   ]
  },
  {
   "cell_type": "code",
   "execution_count": 2,
   "metadata": {},
   "outputs": [
    {
     "name": "stdout",
     "output_type": "stream",
     "text": [
      "Start Date:  2025-01-01 00:00:00\n",
      "End Date:  2025-12-31 00:00:00\n",
      "Number of Dates In:  50\n",
      "Number of Dates Out:  50\n"
     ]
    }
   ],
   "source": [
    "from datetime import datetime, timedelta\n",
    "\n",
    "# creating a list for date in and date out\n",
    "date_in = []\n",
    "date_out = []\n",
    "\n",
    "# defining the range of dates to be picked from\n",
    "start_date = datetime(2025, 1, 1)\n",
    "end_date = datetime(2025, 12, 31)\n",
    "print(\"Start Date: \", start_date)\n",
    "print(\"End Date: \", end_date)\n",
    "\n",
    "# function for creating a random date\n",
    "def date_generator(start, end):\n",
    "    difference = end - start\n",
    "    random_day = random.randint(0, difference.days)\n",
    "    start_day = start + timedelta(days=random_day)\n",
    "    end_day = (start + timedelta(days=random_day + 14))\n",
    "    return start_day, end_day\n",
    "\n",
    "# generating 50 random dates\n",
    "for i in range(0, 50):\n",
    "    start, end = date_generator(start_date, end_date)\n",
    "    formatted_start = start.strftime(\"%Y-%m-%d\")\n",
    "    formatted_end = end.strftime(\"%Y-%m-%d\")\n",
    "    date_in.append(formatted_start)\n",
    "    date_out.append(formatted_end)\n",
    "\n",
    "# printing out the start and end dates\n",
    "print(\"Number of Dates In: \", len(date_in))\n",
    "print(\"Number of Dates Out: \", len(date_out))"
   ]
  },
  {
   "cell_type": "markdown",
   "metadata": {},
   "source": [
    "### Converting Fake Data into a Pandas DataFrame\n",
    "Using the different lists of our fake data, we need to make a Pandas Data Frame and convert it into a full data set so that we can then convert it into a `.csv` file."
   ]
  },
  {
   "cell_type": "code",
   "execution_count": 4,
   "metadata": {},
   "outputs": [],
   "source": [
    "# importing the pandas library\n",
    "import pandas as pd\n",
    "\n",
    "\n",
    "# converting the lists into a pandas data frame\n",
    "packages_df = pd.DataFrame({\n",
    "    'Room' : room_number,\n",
    "    'First Name' : first_names,\n",
    "    \"Last Name\" : second_names,\n",
    "    \"Date In\" : date_in,\n",
    "    \"Packages\" : package_list,\n",
    "    \"Date Out\" : date_out,\n",
    "    \"Staff Initial\" : initial_names\n",
    "})\n",
    "\n",
    "# viewing the data frame\n",
    "packages_df.head(10)\n",
    "\n",
    "# converting the data frame to csv\n",
    "packages_df.to_csv(\"data/VietsData.txt\", index=False)\n",
    "\n",
    "# converting the data frame to excel sheet\n",
    "packages_df.to_excel(\"data/VietsData.xlsx\", index=False)"
   ]
  }
 ],
 "metadata": {
  "kernelspec": {
   "display_name": "vietsEnv",
   "language": "python",
   "name": "python3"
  },
  "language_info": {
   "codemirror_mode": {
    "name": "ipython",
    "version": 3
   },
   "file_extension": ".py",
   "mimetype": "text/x-python",
   "name": "python",
   "nbconvert_exporter": "python",
   "pygments_lexer": "ipython3",
   "version": "3.9.21"
  }
 },
 "nbformat": 4,
 "nbformat_minor": 2
}
